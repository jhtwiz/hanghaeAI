{
 "cells": [
  {
   "cell_type": "code",
   "execution_count": 1,
   "id": "eff7555e-ef3e-4134-9657-00a09e305d40",
   "metadata": {},
   "outputs": [],
   "source": [
    "import torch\n",
    "import torchvision\n",
    "import torchvision.transforms as transforms\n",
    "import numpy as np"
   ]
  },
  {
   "cell_type": "code",
   "execution_count": 3,
   "id": "6712c800-d51d-4a3e-bf48-26b6fccf3c21",
   "metadata": {},
   "outputs": [
    {
     "name": "stdout",
     "output_type": "stream",
     "text": [
      "Files already downloaded and verified\n",
      "Files already downloaded and verified\n"
     ]
    }
   ],
   "source": [
    "transform = transforms.ToTensor()\n",
    "\n",
    "trainset = torchvision.datasets.CIFAR10(\n",
    "    root='./data',\n",
    "    train=True,\n",
    "    download=True,\n",
    "    transform=transform\n",
    ")\n",
    "testset = torchvision.datasets.CIFAR10(\n",
    "    root='./data',\n",
    "    train=False,\n",
    "    download=True,\n",
    "    transform=transform\n",
    ")"
   ]
  },
  {
   "cell_type": "code",
   "execution_count": 7,
   "id": "8c14e349-1cbf-4507-a171-77fc5bff144d",
   "metadata": {},
   "outputs": [
    {
     "name": "stdout",
     "output_type": "stream",
     "text": [
      "['airplane', 'automobile', 'bird', 'cat', 'deer', 'dog', 'frog', 'horse', 'ship', 'truck']\n",
      "10\n"
     ]
    }
   ],
   "source": [
    "print(trainset.classes)\n",
    "print(len(trainset.classes))"
   ]
  },
  {
   "cell_type": "code",
   "execution_count": 23,
   "id": "6be05177-0cde-488f-931e-28156db733ac",
   "metadata": {},
   "outputs": [
    {
     "name": "stdout",
     "output_type": "stream",
     "text": [
      "50000\n",
      "torch.Size([3, 32, 32]) 9\n"
     ]
    },
    {
     "data": {
      "text/plain": [
       "<matplotlib.image.AxesImage at 0x2a7bbf39e20>"
      ]
     },
     "execution_count": 23,
     "metadata": {},
     "output_type": "execute_result"
    },
    {
     "data": {
      "image/png": "[encoded data removed]",
      "text/plain": [
       "<Figure size 640x480 with 1 Axes>"
      ]
     },
     "metadata": {},
     "output_type": "display_data"
    }
   ],
   "source": [
    "from matplotlib import pyplot as plt\n",
    "\n",
    "\n",
    "print(len(trainset))\n",
    "print(trainset[0][0].shape, trainset[1][1])\n",
    "sample = np.transpose(trainset[1][0], (1,2,0))\n",
    "plt.imshow(sample)\n",
    "# plt.imshow(trainset[0][0][0], cmap='gray')"
   ]
  },
  {
   "cell_type": "code",
   "execution_count": 5,
   "id": "22bb5b50-03dd-4db2-8f28-b0bb9fd4702d",
   "metadata": {},
   "outputs": [],
   "source": [
    "batch_size = 256\n",
    "\n",
    "trainloader = torch.utils.data.DataLoader(\n",
    "    trainset,\n",
    "    batch_size=batch_size,\n",
    "    shuffle=True\n",
    ")\n",
    "testloader = torch.utils.data.DataLoader(\n",
    "    testset,\n",
    "    batch_size=batch_size,\n",
    "    shuffle=False\n",
    ")"
   ]
  },
  {
   "cell_type": "code",
   "execution_count": 11,
   "id": "f61c55ab-d550-4ae5-a323-77cef3c01601",
   "metadata": {},
   "outputs": [
    {
     "name": "stdout",
     "output_type": "stream",
     "text": [
      "torch.Size([256, 3, 32, 32]) torch.Size([256])\n"
     ]
    }
   ],
   "source": [
    "dataiter = iter(trainloader)\n",
    "images, labels = next(dataiter)\n",
    "print(images.shape, labels.shape)"
   ]
  },
  {
   "cell_type": "code",
   "execution_count": 7,
   "id": "bed992a0-bb75-42cf-a9ab-35565fb54f7d",
   "metadata": {},
   "outputs": [],
   "source": [
    "from torch import nn\n",
    "\n",
    "\n",
    "class Model(nn.Module):\n",
    "  def __init__(self, input_dim, n_dim):\n",
    "    super().__init__()\n",
    "\n",
    "    self.layer1 = nn.Linear(input_dim, n_dim)\n",
    "    self.layer2 = nn.Linear(n_dim, n_dim)\n",
    "    self.layer3 = nn.Linear(n_dim, 10)\n",
    "\n",
    "    self.act = nn.LeakyReLU()\n",
    "\n",
    "  def forward(self, x):\n",
    "    x = torch.flatten(x, start_dim=1)\n",
    "    x = self.act(self.layer1(x))\n",
    "    x = self.act(self.layer2(x))\n",
    "    x = self.layer3(x)\n",
    "\n",
    "    return x"
   ]
  },
  {
   "cell_type": "code",
   "execution_count": 9,
   "id": "81e27e4e-a00b-4df0-a553-7e1ae580493d",
   "metadata": {},
   "outputs": [],
   "source": [
    "from torch.optim import SGD, Adam\n",
    "\n",
    "lr = 0.001\n",
    "\n",
    "model_opt_sgd = Model(3 * 32 * 32, 1024)\n",
    "model_opt_adam = Model(3 * 32 * 32, 1024)\n",
    "\n",
    "model_opt_sgd = model_opt_sgd.to('cuda')\n",
    "model_opt_adam = model_opt_adam.to('cuda')\n",
    "\n",
    "optimizer_sgd = SGD(model_opt_sgd.parameters(), lr=lr)\n",
    "optimizer_adam = Adam(model_opt_adam.parameters(), lr=lr)"
   ]
  },
  {
   "cell_type": "code",
   "execution_count": 11,
   "id": "ee00f119-3eff-4160-b6b9-b4f158b9b1e6",
   "metadata": {},
   "outputs": [],
   "source": [
    "def accuracy(model, dataloader):\n",
    "  cnt = 0\n",
    "  acc = 0\n",
    "\n",
    "  for data in dataloader:\n",
    "    inputs, labels = data\n",
    "    inputs, labels = inputs.to('cuda'), labels.to('cuda')\n",
    "\n",
    "    preds = model(inputs)\n",
    "    preds = torch.argmax(preds, dim=-1)\n",
    "\n",
    "    cnt += labels.shape[0]\n",
    "    acc += (labels == preds).sum().item()\n",
    "\n",
    "  return acc / cnt"
   ]
  },
  {
   "cell_type": "code",
   "execution_count": 57,
   "id": "6b8aec8e-22c4-4e43-8503-8081e61869b0",
   "metadata": {},
   "outputs": [],
   "source": [
    "def train(model, optimizer, trainloader, testloader=None):\n",
    "    n_epochs = 50\n",
    "    train_accs = []\n",
    "    test_accs = []\n",
    "    for epoch in range(n_epochs):\n",
    "      total_loss = 0.\n",
    "    \n",
    "      model.train()\n",
    "      for data in trainloader:\n",
    "        model.zero_grad()\n",
    "        inputs, labels = data\n",
    "        inputs, labels = inputs.to('cuda'), labels.to('cuda')\n",
    "    \n",
    "        preds = model(inputs)\n",
    "        CEL = torch.nn.CrossEntropyLoss()\n",
    "        loss = CEL(preds, labels)\n",
    "        loss.backward()\n",
    "        optimizer.step()\n",
    "    \n",
    "        total_loss += loss.item()\n",
    "    \n",
    "      with torch.no_grad():\n",
    "        model.eval()\n",
    "        train_accs.append(accuracy(model, trainloader))\n",
    "        if testloader: test_accs.append(accuracy(model, testloader))\n",
    "    \n",
    "      print(f\"Epoch {epoch:3d} | Loss: {total_loss}\")\n",
    "        \n",
    "    if testloader:\n",
    "        return train_accs, test_accs\n",
    "    else:\n",
    "        return train_accs"
   ]
  },
  {
   "cell_type": "code",
   "execution_count": 15,
   "id": "abd8e472-98b0-470b-b8bf-580a86e64921",
   "metadata": {},
   "outputs": [
    {
     "name": "stdout",
     "output_type": "stream",
     "text": [
      "Epoch   0 | Loss: 449.9595329761505\n",
      "Epoch   1 | Loss: 447.8079650402069\n",
      "Epoch   2 | Loss: 446.02727246284485\n",
      "Epoch   3 | Loss: 444.2843163013458\n",
      "Epoch   4 | Loss: 442.49400663375854\n",
      "Epoch   5 | Loss: 440.5787990093231\n",
      "Epoch   6 | Loss: 438.4815933704376\n",
      "Epoch   7 | Loss: 436.2168927192688\n",
      "Epoch   8 | Loss: 433.80255651474\n",
      "Epoch   9 | Loss: 431.19646167755127\n",
      "Epoch  10 | Loss: 428.36613726615906\n",
      "Epoch  11 | Loss: 425.45617175102234\n",
      "Epoch  12 | Loss: 422.46991205215454\n",
      "Epoch  13 | Loss: 419.4887776374817\n",
      "Epoch  14 | Loss: 416.5616612434387\n",
      "Epoch  15 | Loss: 413.79618525505066\n",
      "Epoch  16 | Loss: 411.15643525123596\n",
      "Epoch  17 | Loss: 408.6629230976105\n",
      "Epoch  18 | Loss: 406.37476348876953\n",
      "Epoch  19 | Loss: 404.1794378757477\n",
      "Epoch  20 | Loss: 402.07044184207916\n",
      "Epoch  21 | Loss: 400.19711315631866\n",
      "Epoch  22 | Loss: 398.4125587940216\n",
      "Epoch  23 | Loss: 396.6600331068039\n",
      "Epoch  24 | Loss: 394.99111557006836\n",
      "Epoch  25 | Loss: 393.5054545402527\n",
      "Epoch  26 | Loss: 392.0848240852356\n",
      "Epoch  27 | Loss: 390.652832865715\n",
      "Epoch  28 | Loss: 389.2886974811554\n",
      "Epoch  29 | Loss: 387.9816269874573\n",
      "Epoch  30 | Loss: 386.81231820583344\n",
      "Epoch  31 | Loss: 385.58809673786163\n",
      "Epoch  32 | Loss: 384.4923926591873\n",
      "Epoch  33 | Loss: 383.46849822998047\n",
      "Epoch  34 | Loss: 382.42310881614685\n",
      "Epoch  35 | Loss: 381.4435176849365\n",
      "Epoch  36 | Loss: 380.361807346344\n",
      "Epoch  37 | Loss: 379.5247777700424\n",
      "Epoch  38 | Loss: 378.6578121185303\n",
      "Epoch  39 | Loss: 377.81186747550964\n",
      "Epoch  40 | Loss: 376.95909512043\n",
      "Epoch  41 | Loss: 376.1448678970337\n",
      "Epoch  42 | Loss: 375.30216097831726\n",
      "Epoch  43 | Loss: 374.5104749202728\n",
      "Epoch  44 | Loss: 373.9027279615402\n",
      "Epoch  45 | Loss: 373.1611063480377\n",
      "Epoch  46 | Loss: 372.6197431087494\n",
      "Epoch  47 | Loss: 371.8803777694702\n",
      "Epoch  48 | Loss: 371.1295083761215\n",
      "Epoch  49 | Loss: 370.5535321235657\n",
      "Epoch   0 | Loss: 369.40335392951965\n",
      "Epoch   1 | Loss: 324.6663179397583\n",
      "Epoch   2 | Loss: 306.47320783138275\n",
      "Epoch   3 | Loss: 295.9086012840271\n",
      "Epoch   4 | Loss: 286.12250781059265\n",
      "Epoch   5 | Loss: 278.06216394901276\n",
      "Epoch   6 | Loss: 271.5113903284073\n",
      "Epoch   7 | Loss: 266.27562391757965\n",
      "Epoch   8 | Loss: 258.64414262771606\n",
      "Epoch   9 | Loss: 253.5240341424942\n",
      "Epoch  10 | Loss: 246.7081173658371\n",
      "Epoch  11 | Loss: 241.23139238357544\n",
      "Epoch  12 | Loss: 237.25413131713867\n",
      "Epoch  13 | Loss: 230.7765748500824\n",
      "Epoch  14 | Loss: 226.63827180862427\n",
      "Epoch  15 | Loss: 222.0597022175789\n",
      "Epoch  16 | Loss: 216.35612738132477\n",
      "Epoch  17 | Loss: 211.95720463991165\n",
      "Epoch  18 | Loss: 208.1325767636299\n",
      "Epoch  19 | Loss: 202.69908279180527\n",
      "Epoch  20 | Loss: 197.09142780303955\n",
      "Epoch  21 | Loss: 191.94242250919342\n",
      "Epoch  22 | Loss: 187.7180688381195\n",
      "Epoch  23 | Loss: 182.7887973189354\n",
      "Epoch  24 | Loss: 176.61563938856125\n",
      "Epoch  25 | Loss: 171.83604311943054\n",
      "Epoch  26 | Loss: 167.34186697006226\n",
      "Epoch  27 | Loss: 161.00740903615952\n",
      "Epoch  28 | Loss: 156.89457273483276\n",
      "Epoch  29 | Loss: 151.09996336698532\n",
      "Epoch  30 | Loss: 147.08242452144623\n",
      "Epoch  31 | Loss: 140.8571119904518\n",
      "Epoch  32 | Loss: 136.36928415298462\n",
      "Epoch  33 | Loss: 132.6726859807968\n",
      "Epoch  34 | Loss: 126.18539440631866\n",
      "Epoch  35 | Loss: 123.99062034487724\n",
      "Epoch  36 | Loss: 118.5044755935669\n",
      "Epoch  37 | Loss: 113.50643584132195\n",
      "Epoch  38 | Loss: 109.14050576090813\n",
      "Epoch  39 | Loss: 105.88443085551262\n",
      "Epoch  40 | Loss: 102.39533510804176\n",
      "Epoch  41 | Loss: 98.23960566520691\n",
      "Epoch  42 | Loss: 94.32394769787788\n",
      "Epoch  43 | Loss: 90.25151044130325\n",
      "Epoch  44 | Loss: 88.12235069274902\n",
      "Epoch  45 | Loss: 80.9212634563446\n",
      "Epoch  46 | Loss: 82.82574433088303\n",
      "Epoch  47 | Loss: 77.2153192460537\n",
      "Epoch  48 | Loss: 74.19527325034142\n",
      "Epoch  49 | Loss: 73.15831133723259\n"
     ]
    }
   ],
   "source": [
    "sgd_train = train(model_opt_sgd, optimizer_sgd, trainloader)\n",
    "adam_train = train(model_opt_adam, optimizer_adam, trainloader)"
   ]
  },
  {
   "cell_type": "code",
   "execution_count": 25,
   "id": "a6794ce0-1a89-4375-9220-0092ada229e1",
   "metadata": {},
   "outputs": [],
   "source": [
    "from matplotlib import pyplot as plt\n",
    "\n",
    "def showPlot(*results):\n",
    "    for result in results:\n",
    "        data = result['data']\n",
    "        label = result['label']\n",
    "        x = np.arange(len(data))\n",
    "        plt.plot(x, data, label=label)\n",
    "    plt.legend()\n",
    "    plt.show()"
   ]
  },
  {
   "cell_type": "code",
   "execution_count": 59,
   "id": "8341a678-7c35-4d98-b740-b4109e1b7f91",
   "metadata": {},
   "outputs": [
    {
     "data": {
      "image/png": "[encoded data removed]",
      "text/plain": [
       "<Figure size 640x480 with 1 Axes>"
      ]
     },
     "metadata": {},
     "output_type": "display_data"
    }
   ],
   "source": [
    "showPlot({'label': 'sgd', 'data': sgd_train}, {'label': 'adam', 'data': adam_train})"
   ]
  },
  {
   "cell_type": "code",
   "execution_count": 63,
   "id": "ce46fb5c-ba5c-4fbc-ba72-bb74fa9d1cc6",
   "metadata": {},
   "outputs": [],
   "source": [
    "class SigmoidModel(nn.Module):\n",
    "    def __init__(self, input_dim, n_dim):\n",
    "        super().__init__()\n",
    "\n",
    "        self.layer1 = nn.Linear(input_dim, n_dim)\n",
    "        self.layer2 = nn.Linear(n_dim, n_dim)\n",
    "        self.layer3 = nn.Linear(n_dim, 10)\n",
    "\n",
    "        self.act = nn.Sigmoid()\n",
    "\n",
    "    \n",
    "    def forward(self, x):\n",
    "        x = torch.flatten(x, start_dim=1)\n",
    "        x = self.act(self.layer1(x))\n",
    "        x = self.act(self.layer2(x))\n",
    "        x = self.layer3(x)\n",
    "        \n",
    "        return x"
   ]
  },
  {
   "cell_type": "code",
   "execution_count": 65,
   "id": "075f4eb0-cff6-4dec-a4c3-8637a9b09c2f",
   "metadata": {},
   "outputs": [],
   "source": [
    "lr = 0.001\n",
    "\n",
    "sigModel = SigmoidModel(3 * 32 * 32, 1024)\n",
    "leakyReluModel = Model(3 * 32 * 32, 1024)\n",
    "\n",
    "sigModel = sigModel.to('cuda')\n",
    "leakyReluModel = leakyReluModel.to('cuda')\n",
    "\n",
    "optim_for_sig = Adam(sigModel.parameters(), lr=lr)\n",
    "optim_for_leaky = Adam(leakyReluModel.parameters(), lr=lr)"
   ]
  },
  {
   "cell_type": "code",
   "execution_count": 67,
   "id": "4b390479-bde8-47fd-b616-6111872783f8",
   "metadata": {},
   "outputs": [
    {
     "name": "stdout",
     "output_type": "stream",
     "text": [
      "Epoch   0 | Loss: 386.302947640419\n",
      "Epoch   1 | Loss: 338.0867223739624\n",
      "Epoch   2 | Loss: 321.39596951007843\n",
      "Epoch   3 | Loss: 308.3180853128433\n",
      "Epoch   4 | Loss: 299.0466593503952\n",
      "Epoch   5 | Loss: 292.4270465373993\n",
      "Epoch   6 | Loss: 285.94172644615173\n",
      "Epoch   7 | Loss: 277.90055108070374\n",
      "Epoch   8 | Loss: 274.2808119058609\n",
      "Epoch   9 | Loss: 270.04654014110565\n",
      "Epoch  10 | Loss: 265.48529863357544\n",
      "Epoch  11 | Loss: 260.8406537771225\n",
      "Epoch  12 | Loss: 256.1607987880707\n",
      "Epoch  13 | Loss: 252.0372599363327\n",
      "Epoch  14 | Loss: 249.09028351306915\n",
      "Epoch  15 | Loss: 245.77544176578522\n",
      "Epoch  16 | Loss: 242.1152148246765\n",
      "Epoch  17 | Loss: 236.8674818277359\n",
      "Epoch  18 | Loss: 234.16846811771393\n",
      "Epoch  19 | Loss: 230.83807939291\n",
      "Epoch  20 | Loss: 227.03324854373932\n",
      "Epoch  21 | Loss: 224.60682648420334\n",
      "Epoch  22 | Loss: 220.79260301589966\n",
      "Epoch  23 | Loss: 218.2599087357521\n",
      "Epoch  24 | Loss: 214.11424738168716\n",
      "Epoch  25 | Loss: 211.02789318561554\n",
      "Epoch  26 | Loss: 206.79337227344513\n",
      "Epoch  27 | Loss: 203.90750861167908\n",
      "Epoch  28 | Loss: 200.31939679384232\n",
      "Epoch  29 | Loss: 198.82366055250168\n",
      "Epoch  30 | Loss: 193.0825098156929\n",
      "Epoch  31 | Loss: 191.36745882034302\n",
      "Epoch  32 | Loss: 189.00118070840836\n",
      "Epoch  33 | Loss: 187.38200068473816\n",
      "Epoch  34 | Loss: 183.28018486499786\n",
      "Epoch  35 | Loss: 180.50514686107635\n",
      "Epoch  36 | Loss: 178.36042672395706\n",
      "Epoch  37 | Loss: 173.70033663511276\n",
      "Epoch  38 | Loss: 169.28642517328262\n",
      "Epoch  39 | Loss: 167.27758646011353\n",
      "Epoch  40 | Loss: 163.57984042167664\n",
      "Epoch  41 | Loss: 161.16539472341537\n",
      "Epoch  42 | Loss: 160.98617255687714\n",
      "Epoch  43 | Loss: 157.19677180051804\n",
      "Epoch  44 | Loss: 153.71996140480042\n",
      "Epoch  45 | Loss: 149.5939626097679\n",
      "Epoch  46 | Loss: 150.14999961853027\n",
      "Epoch  47 | Loss: 145.0291177034378\n",
      "Epoch  48 | Loss: 144.42311435937881\n",
      "Epoch  49 | Loss: 140.49067932367325\n",
      "Epoch   0 | Loss: 370.2131632566452\n",
      "Epoch   1 | Loss: 325.22832322120667\n",
      "Epoch   2 | Loss: 307.33474612236023\n",
      "Epoch   3 | Loss: 296.24276196956635\n",
      "Epoch   4 | Loss: 284.48069167137146\n",
      "Epoch   5 | Loss: 277.3363256454468\n",
      "Epoch   6 | Loss: 272.0531007051468\n",
      "Epoch   7 | Loss: 265.74503350257874\n",
      "Epoch   8 | Loss: 258.35891139507294\n",
      "Epoch   9 | Loss: 252.92899239063263\n",
      "Epoch  10 | Loss: 245.42858183383942\n",
      "Epoch  11 | Loss: 239.05709648132324\n",
      "Epoch  12 | Loss: 235.69541990756989\n",
      "Epoch  13 | Loss: 231.13533854484558\n",
      "Epoch  14 | Loss: 224.20828258991241\n",
      "Epoch  15 | Loss: 220.12621235847473\n",
      "Epoch  16 | Loss: 214.3962351679802\n",
      "Epoch  17 | Loss: 208.10654497146606\n",
      "Epoch  18 | Loss: 204.6795516014099\n",
      "Epoch  19 | Loss: 199.43780434131622\n",
      "Epoch  20 | Loss: 193.51321309804916\n",
      "Epoch  21 | Loss: 188.743310213089\n",
      "Epoch  22 | Loss: 182.20524507761002\n",
      "Epoch  23 | Loss: 178.1561558842659\n",
      "Epoch  24 | Loss: 172.12775921821594\n",
      "Epoch  25 | Loss: 168.25733011960983\n",
      "Epoch  26 | Loss: 161.71316307783127\n",
      "Epoch  27 | Loss: 156.99608701467514\n",
      "Epoch  28 | Loss: 151.82655972242355\n",
      "Epoch  29 | Loss: 144.92838287353516\n",
      "Epoch  30 | Loss: 141.00655937194824\n",
      "Epoch  31 | Loss: 136.8244727253914\n",
      "Epoch  32 | Loss: 131.03324276208878\n",
      "Epoch  33 | Loss: 123.90313309431076\n",
      "Epoch  34 | Loss: 120.83059084415436\n",
      "Epoch  35 | Loss: 115.4854484796524\n",
      "Epoch  36 | Loss: 113.61399671435356\n",
      "Epoch  37 | Loss: 110.06600239872932\n",
      "Epoch  38 | Loss: 101.46289706230164\n",
      "Epoch  39 | Loss: 99.2809624671936\n",
      "Epoch  40 | Loss: 98.03389120101929\n",
      "Epoch  41 | Loss: 90.93759924173355\n",
      "Epoch  42 | Loss: 87.03950348496437\n",
      "Epoch  43 | Loss: 83.21267062425613\n",
      "Epoch  44 | Loss: 79.81019470095634\n",
      "Epoch  45 | Loss: 78.66064946353436\n",
      "Epoch  46 | Loss: 76.99268785119057\n",
      "Epoch  47 | Loss: 73.40871718525887\n",
      "Epoch  48 | Loss: 72.40456639230251\n",
      "Epoch  49 | Loss: 67.32920143008232\n"
     ]
    }
   ],
   "source": [
    "sig_train = train(sigModel, optim_for_sig, trainloader)\n",
    "leaky_train = train(leakyReluModel, optim_for_leaky, trainloader)"
   ]
  },
  {
   "cell_type": "code",
   "execution_count": 69,
   "id": "8ff2192b-9c79-442a-8f75-289c65bf96e3",
   "metadata": {},
   "outputs": [
    {
     "data": {
      "image/png": "[encoded data removed]",
      "text/plain": [
       "<Figure size 640x480 with 1 Axes>"
      ]
     },
     "metadata": {},
     "output_type": "display_data"
    }
   ],
   "source": [
    "showPlot({'label': 'sigmoid', 'data': sig_train}, {'label': 'LeakyReLu', 'data': leaky_train})"
   ]
  },
  {
   "cell_type": "code",
   "execution_count": 73,
   "id": "10a358d3-b435-40a8-a081-dabdfdd4a292",
   "metadata": {},
   "outputs": [],
   "source": [
    "class DropoutModel(nn.Module):\n",
    "    \n",
    "    def __init__(self, input_dim, n_dim):\n",
    "        super().__init__()\n",
    "\n",
    "        self.layer1 = nn.Linear(input_dim, n_dim)\n",
    "        self.layer2 = nn.Linear(n_dim, n_dim)\n",
    "        self.layer3 = nn.Linear(n_dim, 10)\n",
    "\n",
    "        self.act = nn.LeakyReLU()\n",
    "        self.dropout = nn.Dropout(p=0.1)\n",
    "\n",
    "    def forward(self, x):\n",
    "        x = torch.flatten(x, start_dim=1)\n",
    "        x = self.act(self.layer1(x))\n",
    "        x = self.dropout(x)\n",
    "        x = self.act(self.layer2(x))\n",
    "        x = self.dropout(x)\n",
    "        x = self.layer3(x)\n",
    "\n",
    "        return x"
   ]
  },
  {
   "cell_type": "code",
   "execution_count": 75,
   "id": "66496b9b-d2b2-4cfc-ba4e-9ba4674b4dd1",
   "metadata": {},
   "outputs": [],
   "source": [
    "dropoutModel = DropoutModel(3 * 32 * 32, 1024)\n",
    "dropoutModel = dropoutModel.to('cuda')\n",
    "\n",
    "optim_with_drop = Adam(dropoutModel.parameters(), lr=lr)"
   ]
  },
  {
   "cell_type": "code",
   "execution_count": 77,
   "id": "517e4df7-12c0-4092-8560-12687bc1313f",
   "metadata": {},
   "outputs": [
    {
     "name": "stdout",
     "output_type": "stream",
     "text": [
      "Epoch   0 | Loss: 369.88279688358307\n",
      "Epoch   1 | Loss: 332.46503376960754\n",
      "Epoch   2 | Loss: 315.1964387893677\n",
      "Epoch   3 | Loss: 304.7842319011688\n",
      "Epoch   4 | Loss: 296.100413441658\n",
      "Epoch   5 | Loss: 290.7852793931961\n",
      "Epoch   6 | Loss: 284.931515455246\n",
      "Epoch   7 | Loss: 280.1321415901184\n",
      "Epoch   8 | Loss: 272.80698812007904\n",
      "Epoch   9 | Loss: 269.6558561325073\n",
      "Epoch  10 | Loss: 265.22994232177734\n",
      "Epoch  11 | Loss: 261.4298459291458\n",
      "Epoch  12 | Loss: 256.63942790031433\n",
      "Epoch  13 | Loss: 253.4547746181488\n",
      "Epoch  14 | Loss: 250.62121284008026\n",
      "Epoch  15 | Loss: 247.88246834278107\n",
      "Epoch  16 | Loss: 244.80556738376617\n",
      "Epoch  17 | Loss: 241.0575431585312\n",
      "Epoch  18 | Loss: 237.54454362392426\n",
      "Epoch  19 | Loss: 235.29757463932037\n",
      "Epoch  20 | Loss: 230.743197619915\n",
      "Epoch  21 | Loss: 227.4626853466034\n",
      "Epoch  22 | Loss: 225.5560012459755\n",
      "Epoch  23 | Loss: 222.78997600078583\n",
      "Epoch  24 | Loss: 219.64757108688354\n",
      "Epoch  25 | Loss: 216.54809951782227\n",
      "Epoch  26 | Loss: 212.92072224617004\n",
      "Epoch  27 | Loss: 209.5074200630188\n",
      "Epoch  28 | Loss: 207.18585300445557\n",
      "Epoch  29 | Loss: 206.05810886621475\n",
      "Epoch  30 | Loss: 201.18708407878876\n",
      "Epoch  31 | Loss: 198.94906097650528\n",
      "Epoch  32 | Loss: 195.34446132183075\n",
      "Epoch  33 | Loss: 193.3289093375206\n",
      "Epoch  34 | Loss: 190.6990321278572\n",
      "Epoch  35 | Loss: 188.70928770303726\n",
      "Epoch  36 | Loss: 187.6310600042343\n",
      "Epoch  37 | Loss: 185.4491553902626\n",
      "Epoch  38 | Loss: 181.11075085401535\n",
      "Epoch  39 | Loss: 178.2147879600525\n",
      "Epoch  40 | Loss: 177.2128415107727\n",
      "Epoch  41 | Loss: 174.95505517721176\n",
      "Epoch  42 | Loss: 172.56741148233414\n",
      "Epoch  43 | Loss: 168.78364276885986\n",
      "Epoch  44 | Loss: 168.22161823511124\n",
      "Epoch  45 | Loss: 166.06250989437103\n",
      "Epoch  46 | Loss: 164.82368570566177\n",
      "Epoch  47 | Loss: 163.4742568731308\n",
      "Epoch  48 | Loss: 160.21180665493011\n",
      "Epoch  49 | Loss: 156.7649233341217\n"
     ]
    }
   ],
   "source": [
    "train, test = train(dropoutModel, optim_with_drop, trainloader, testloader)"
   ]
  },
  {
   "cell_type": "code",
   "execution_count": 79,
   "id": "cfd442d6-7018-4591-92c3-eb4d36c7eb3a",
   "metadata": {},
   "outputs": [
    {
     "data": {
      "image/png": "[encoded data removed]",
      "text/plain": [
       "<Figure size 640x480 with 1 Axes>"
      ]
     },
     "metadata": {},
     "output_type": "display_data"
    }
   ],
   "source": [
    "showPlot({'label': 'train', 'data': train}, {'label': 'test', 'data': test})"
   ]
  }
 ],
 "metadata": {
  "kernelspec": {
   "display_name": "Python3(mlTest)",
   "language": "python",
   "name": "mltest"
  },
  "language_info": {
   "codemirror_mode": {
    "name": "ipython",
    "version": 3
   },
   "file_extension": ".py",
   "mimetype": "text/x-python",
   "name": "python",
   "nbconvert_exporter": "python",
   "pygments_lexer": "ipython3",
   "version": "3.12.4"
  }
 },
 "nbformat": 4,
 "nbformat_minor": 5
}
