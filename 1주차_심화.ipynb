{
  "cells": [
    {
      "cell_type": "markdown",
      "metadata": {
        "id": "view-in-github",
        "colab_type": "text"
      },
      "source": [
        "<a href=\"https://colab.research.google.com/github/jhtwiz/hanghaeAI/blob/main/1%E1%84%8C%E1%85%AE%E1%84%8E%E1%85%A1_%E1%84%89%E1%85%B5%E1%86%B7%E1%84%92%E1%85%AA.ipynb\" target=\"_parent\"><img src=\"https://colab.research.google.com/assets/colab-badge.svg\" alt=\"Open In Colab\"/></a>"
      ]
    },
    {
      "cell_type": "code",
      "execution_count": 1,
      "id": "eff7555e-ef3e-4134-9657-00a09e305d40",
      "metadata": {
        "id": "eff7555e-ef3e-4134-9657-00a09e305d40"
      },
      "outputs": [],
      "source": [
        "import torch\n",
        "import torchvision\n",
        "import torchvision.transforms as transforms\n",
        "import numpy as np"
      ]
    },
    {
      "cell_type": "code",
      "execution_count": 2,
      "id": "6712c800-d51d-4a3e-bf48-26b6fccf3c21",
      "metadata": {
        "colab": {
          "base_uri": "https://localhost:8080/"
        },
        "id": "6712c800-d51d-4a3e-bf48-26b6fccf3c21",
        "outputId": "d5f5f45d-391b-46dc-dc19-44afa83007ef"
      },
      "outputs": [
        {
          "output_type": "stream",
          "name": "stdout",
          "text": [
            "Downloading https://www.cs.toronto.edu/~kriz/cifar-10-python.tar.gz to ./data/cifar-10-python.tar.gz\n"
          ]
        },
        {
          "output_type": "stream",
          "name": "stderr",
          "text": [
            "100%|██████████| 170498071/170498071 [00:03<00:00, 43388804.67it/s]\n"
          ]
        },
        {
          "output_type": "stream",
          "name": "stdout",
          "text": [
            "Extracting ./data/cifar-10-python.tar.gz to ./data\n",
            "Files already downloaded and verified\n"
          ]
        }
      ],
      "source": [
        "transform = transforms.ToTensor()\n",
        "\n",
        "trainset = torchvision.datasets.CIFAR10(\n",
        "    root='./data',\n",
        "    train=True,\n",
        "    download=True,\n",
        "    transform=transform\n",
        ")\n",
        "testset = torchvision.datasets.CIFAR10(\n",
        "    root='./data',\n",
        "    train=False,\n",
        "    download=True,\n",
        "    transform=transform\n",
        ")"
      ]
    },
    {
      "cell_type": "code",
      "execution_count": 3,
      "id": "8c14e349-1cbf-4507-a171-77fc5bff144d",
      "metadata": {
        "colab": {
          "base_uri": "https://localhost:8080/"
        },
        "id": "8c14e349-1cbf-4507-a171-77fc5bff144d",
        "outputId": "0fcc461f-f9e8-4661-e4be-d695eda93cb9"
      },
      "outputs": [
        {
          "output_type": "stream",
          "name": "stdout",
          "text": [
            "['airplane', 'automobile', 'bird', 'cat', 'deer', 'dog', 'frog', 'horse', 'ship', 'truck']\n",
            "10\n"
          ]
        }
      ],
      "source": [
        "print(trainset.classes)\n",
        "print(len(trainset.classes))"
      ]
    },
    {
      "cell_type": "code",
      "execution_count": 4,
      "id": "6be05177-0cde-488f-931e-28156db733ac",
      "metadata": {
        "colab": {
          "base_uri": "https://localhost:8080/",
          "height": 484
        },
        "id": "6be05177-0cde-488f-931e-28156db733ac",
        "outputId": "c81d66d4-df5a-487b-fa72-bf8ea0391d3c"
      },
      "outputs": [
        {
          "output_type": "stream",
          "name": "stdout",
          "text": [
            "50000\n",
            "torch.Size([3, 32, 32]) 9\n"
          ]
        },
        {
          "output_type": "execute_result",
          "data": {
            "text/plain": [
              "<matplotlib.image.AxesImage at 0x79e38bff1e70>"
            ]
          },
          "metadata": {},
          "execution_count": 4
        },
        {
          "output_type": "display_data",
          "data": {
            "text/plain": [
              "<Figure size 640x480 with 1 Axes>"
            ],
            "image/png": "[encoded data removed]"
          },
          "metadata": {}
        }
      ],
      "source": [
        "from matplotlib import pyplot as plt\n",
        "\n",
        "\n",
        "print(len(trainset))\n",
        "print(trainset[0][0].shape, trainset[1][1])\n",
        "sample = np.transpose(trainset[1][0], (1,2,0))\n",
        "plt.imshow(sample)\n",
        "# plt.imshow(trainset[0][0][0], cmap='gray')"
      ]
    },
    {
      "cell_type": "code",
      "execution_count": 5,
      "id": "22bb5b50-03dd-4db2-8f28-b0bb9fd4702d",
      "metadata": {
        "id": "22bb5b50-03dd-4db2-8f28-b0bb9fd4702d"
      },
      "outputs": [],
      "source": [
        "batch_size = 256\n",
        "\n",
        "trainloader = torch.utils.data.DataLoader(\n",
        "    trainset,\n",
        "    batch_size=batch_size,\n",
        "    shuffle=True\n",
        ")\n",
        "testloader = torch.utils.data.DataLoader(\n",
        "    testset,\n",
        "    batch_size=batch_size,\n",
        "    shuffle=False\n",
        ")"
      ]
    },
    {
      "cell_type": "code",
      "execution_count": 6,
      "id": "f61c55ab-d550-4ae5-a323-77cef3c01601",
      "metadata": {
        "colab": {
          "base_uri": "https://localhost:8080/"
        },
        "id": "f61c55ab-d550-4ae5-a323-77cef3c01601",
        "outputId": "a50957ec-84a8-4e6a-9c2a-0e52d605ea5f"
      },
      "outputs": [
        {
          "output_type": "stream",
          "name": "stdout",
          "text": [
            "torch.Size([256, 3, 32, 32]) torch.Size([256])\n"
          ]
        }
      ],
      "source": [
        "dataiter = iter(trainloader)\n",
        "images, labels = next(dataiter)\n",
        "print(images.shape, labels.shape)"
      ]
    },
    {
      "cell_type": "code",
      "execution_count": 7,
      "id": "bed992a0-bb75-42cf-a9ab-35565fb54f7d",
      "metadata": {
        "id": "bed992a0-bb75-42cf-a9ab-35565fb54f7d"
      },
      "outputs": [],
      "source": [
        "from torch import nn\n",
        "\n",
        "\n",
        "class Model(nn.Module):\n",
        "  def __init__(self, input_dim, n_dim):\n",
        "    super().__init__()\n",
        "\n",
        "    self.layer1 = nn.Linear(input_dim, n_dim)\n",
        "    self.layer2 = nn.Linear(n_dim, n_dim)\n",
        "    self.layer3 = nn.Linear(n_dim, 10)\n",
        "\n",
        "    self.act = nn.LeakyReLU()\n",
        "\n",
        "  def forward(self, x):\n",
        "    x = torch.flatten(x, start_dim=1)\n",
        "    x = self.act(self.layer1(x))\n",
        "    x = self.act(self.layer2(x))\n",
        "    x = self.layer3(x)\n",
        "\n",
        "    return x"
      ]
    },
    {
      "cell_type": "code",
      "execution_count": 8,
      "id": "81e27e4e-a00b-4df0-a553-7e1ae580493d",
      "metadata": {
        "id": "81e27e4e-a00b-4df0-a553-7e1ae580493d"
      },
      "outputs": [],
      "source": [
        "from torch.optim import SGD, Adam\n",
        "\n",
        "lr = 0.001\n",
        "\n",
        "model_opt_sgd = Model(3 * 32 * 32, 1024)\n",
        "model_opt_adam = Model(3 * 32 * 32, 1024)\n",
        "\n",
        "model_opt_sgd = model_opt_sgd.to('cuda')\n",
        "model_opt_adam = model_opt_adam.to('cuda')\n",
        "\n",
        "optimizer_sgd = SGD(model_opt_sgd.parameters(), lr=lr)\n",
        "optimizer_adam = Adam(model_opt_adam.parameters(), lr=lr)"
      ]
    },
    {
      "cell_type": "code",
      "execution_count": 9,
      "id": "ee00f119-3eff-4160-b6b9-b4f158b9b1e6",
      "metadata": {
        "id": "ee00f119-3eff-4160-b6b9-b4f158b9b1e6"
      },
      "outputs": [],
      "source": [
        "def accuracy(model, dataloader):\n",
        "  cnt = 0\n",
        "  acc = 0\n",
        "\n",
        "  for data in dataloader:\n",
        "    inputs, labels = data\n",
        "    inputs, labels = inputs.to('cuda'), labels.to('cuda')\n",
        "\n",
        "    preds = model(inputs)\n",
        "    preds = torch.argmax(preds, dim=-1)\n",
        "\n",
        "    cnt += labels.shape[0]\n",
        "    acc += (labels == preds).sum().item()\n",
        "\n",
        "  return acc / cnt"
      ]
    },
    {
      "cell_type": "code",
      "execution_count": 10,
      "id": "6b8aec8e-22c4-4e43-8503-8081e61869b0",
      "metadata": {
        "id": "6b8aec8e-22c4-4e43-8503-8081e61869b0"
      },
      "outputs": [],
      "source": [
        "def train(model, optimizer, trainloader, testloader=None):\n",
        "    n_epochs = 50\n",
        "    train_accs = []\n",
        "    test_accs = []\n",
        "    for epoch in range(n_epochs):\n",
        "      total_loss = 0.\n",
        "\n",
        "      model.train()\n",
        "      for data in trainloader:\n",
        "        model.zero_grad()\n",
        "        inputs, labels = data\n",
        "        inputs, labels = inputs.to('cuda'), labels.to('cuda')\n",
        "\n",
        "        preds = model(inputs)\n",
        "        CEL = torch.nn.CrossEntropyLoss()\n",
        "        loss = CEL(preds, labels)\n",
        "        loss.backward()\n",
        "        optimizer.step()\n",
        "\n",
        "        total_loss += loss.item()\n",
        "\n",
        "      with torch.no_grad():\n",
        "        model.eval()\n",
        "        train_accs.append(accuracy(model, trainloader))\n",
        "        if testloader: test_accs.append(accuracy(model, testloader))\n",
        "\n",
        "      print(f\"Epoch {epoch:3d} | Loss: {total_loss}\")\n",
        "\n",
        "    if testloader:\n",
        "        return train_accs, test_accs\n",
        "    else:\n",
        "        return train_accs"
      ]
    },
    {
      "cell_type": "code",
      "execution_count": 11,
      "id": "abd8e472-98b0-470b-b8bf-580a86e64921",
      "metadata": {
        "id": "abd8e472-98b0-470b-b8bf-580a86e64921",
        "outputId": "637d1b4c-efce-4213-afe9-05d4710ba3ec",
        "colab": {
          "base_uri": "https://localhost:8080/"
        }
      },
      "outputs": [
        {
          "output_type": "stream",
          "name": "stdout",
          "text": [
            "Epoch   0 | Loss: 365.68675088882446\n",
            "Epoch   1 | Loss: 324.03324949741364\n",
            "Epoch   2 | Loss: 305.1731685400009\n",
            "Epoch   3 | Loss: 292.88848769664764\n",
            "Epoch   4 | Loss: 284.189369559288\n",
            "Epoch   5 | Loss: 275.98715806007385\n",
            "Epoch   6 | Loss: 269.3522803783417\n",
            "Epoch   7 | Loss: 262.6091243028641\n",
            "Epoch   8 | Loss: 257.29412829875946\n",
            "Epoch   9 | Loss: 251.85313034057617\n",
            "Epoch  10 | Loss: 245.61378115415573\n",
            "Epoch  11 | Loss: 239.3666135072708\n",
            "Epoch  12 | Loss: 233.0883024930954\n",
            "Epoch  13 | Loss: 228.0819262266159\n",
            "Epoch  14 | Loss: 221.51148635149002\n",
            "Epoch  15 | Loss: 218.14341139793396\n",
            "Epoch  16 | Loss: 213.07018899917603\n",
            "Epoch  17 | Loss: 206.10817432403564\n",
            "Epoch  18 | Loss: 201.92855721712112\n",
            "Epoch  19 | Loss: 196.47109007835388\n",
            "Epoch  20 | Loss: 191.2915381193161\n",
            "Epoch  21 | Loss: 185.50894170999527\n",
            "Epoch  22 | Loss: 179.93854302167892\n",
            "Epoch  23 | Loss: 174.50552207231522\n",
            "Epoch  24 | Loss: 168.48000746965408\n",
            "Epoch  25 | Loss: 162.16962671279907\n",
            "Epoch  26 | Loss: 157.90007257461548\n",
            "Epoch  27 | Loss: 153.99401128292084\n",
            "Epoch  28 | Loss: 146.42058962583542\n",
            "Epoch  29 | Loss: 144.23450553417206\n",
            "Epoch  30 | Loss: 137.42937076091766\n",
            "Epoch  31 | Loss: 132.23115026950836\n",
            "Epoch  32 | Loss: 126.59157899022102\n",
            "Epoch  33 | Loss: 122.52271860837936\n",
            "Epoch  34 | Loss: 116.81874531507492\n",
            "Epoch  35 | Loss: 114.89111664891243\n",
            "Epoch  36 | Loss: 108.5076570212841\n",
            "Epoch  37 | Loss: 103.0810934305191\n",
            "Epoch  38 | Loss: 102.91968974471092\n",
            "Epoch  39 | Loss: 99.14906293153763\n",
            "Epoch  40 | Loss: 93.62093305587769\n",
            "Epoch  41 | Loss: 89.67590188980103\n",
            "Epoch  42 | Loss: 86.35404187440872\n",
            "Epoch  43 | Loss: 80.02372375130653\n",
            "Epoch  44 | Loss: 77.57537516951561\n",
            "Epoch  45 | Loss: 77.3225791156292\n",
            "Epoch  46 | Loss: 72.81846630573273\n",
            "Epoch  47 | Loss: 69.47335493564606\n",
            "Epoch  48 | Loss: 66.95288872718811\n",
            "Epoch  49 | Loss: 63.97768859565258\n",
            "Epoch   0 | Loss: 450.57653403282166\n",
            "Epoch   1 | Loss: 448.3475739955902\n",
            "Epoch   2 | Loss: 446.4957528114319\n",
            "Epoch   3 | Loss: 444.7213273048401\n",
            "Epoch   4 | Loss: 442.9014618396759\n",
            "Epoch   5 | Loss: 440.97058057785034\n",
            "Epoch   6 | Loss: 438.90444922447205\n",
            "Epoch   7 | Loss: 436.6596384048462\n",
            "Epoch   8 | Loss: 434.2487156391144\n",
            "Epoch   9 | Loss: 431.5960638523102\n",
            "Epoch  10 | Loss: 428.83572268486023\n",
            "Epoch  11 | Loss: 425.9295630455017\n",
            "Epoch  12 | Loss: 423.0002794265747\n",
            "Epoch  13 | Loss: 420.05917620658875\n",
            "Epoch  14 | Loss: 417.1914949417114\n",
            "Epoch  15 | Loss: 414.4561057090759\n",
            "Epoch  16 | Loss: 411.81567430496216\n",
            "Epoch  17 | Loss: 409.3787171840668\n",
            "Epoch  18 | Loss: 407.0029228925705\n",
            "Epoch  19 | Loss: 404.9250713586807\n",
            "Epoch  20 | Loss: 402.9005092382431\n",
            "Epoch  21 | Loss: 400.97130596637726\n",
            "Epoch  22 | Loss: 399.140184879303\n",
            "Epoch  23 | Loss: 397.4766286611557\n",
            "Epoch  24 | Loss: 395.7923513650894\n",
            "Epoch  25 | Loss: 394.22132754325867\n",
            "Epoch  26 | Loss: 392.66994631290436\n",
            "Epoch  27 | Loss: 391.2630287408829\n",
            "Epoch  28 | Loss: 389.90489292144775\n",
            "Epoch  29 | Loss: 388.6479626893997\n",
            "Epoch  30 | Loss: 387.33670794963837\n",
            "Epoch  31 | Loss: 386.2035652399063\n",
            "Epoch  32 | Loss: 385.0146380662918\n",
            "Epoch  33 | Loss: 383.9125348329544\n",
            "Epoch  34 | Loss: 382.8236435651779\n",
            "Epoch  35 | Loss: 381.845440864563\n",
            "Epoch  36 | Loss: 380.83954977989197\n",
            "Epoch  37 | Loss: 379.9918682575226\n",
            "Epoch  38 | Loss: 379.0030219554901\n",
            "Epoch  39 | Loss: 378.06668508052826\n",
            "Epoch  40 | Loss: 377.2043237686157\n",
            "Epoch  41 | Loss: 376.3412528038025\n",
            "Epoch  42 | Loss: 375.70619344711304\n",
            "Epoch  43 | Loss: 374.7779589891434\n",
            "Epoch  44 | Loss: 374.04754114151\n",
            "Epoch  45 | Loss: 373.4144710302353\n",
            "Epoch  46 | Loss: 372.733544588089\n",
            "Epoch  47 | Loss: 371.8898607492447\n",
            "Epoch  48 | Loss: 371.4271615743637\n",
            "Epoch  49 | Loss: 370.6733218431473\n"
          ]
        }
      ],
      "source": [
        "adam_train = train(model_opt_adam, optimizer_adam, trainloader)\n",
        "sgd_train = train(model_opt_sgd, optimizer_sgd, trainloader)"
      ]
    },
    {
      "cell_type": "code",
      "execution_count": 12,
      "id": "a6794ce0-1a89-4375-9220-0092ada229e1",
      "metadata": {
        "id": "a6794ce0-1a89-4375-9220-0092ada229e1"
      },
      "outputs": [],
      "source": [
        "from matplotlib import pyplot as plt\n",
        "\n",
        "def showPlot(*results):\n",
        "    for result in results:\n",
        "        data = result['data']\n",
        "        label = result['label']\n",
        "        x = np.arange(len(data))\n",
        "        plt.plot(x, data, label=label)\n",
        "    plt.legend()\n",
        "    plt.show()"
      ]
    },
    {
      "cell_type": "code",
      "execution_count": 13,
      "id": "8341a678-7c35-4d98-b740-b4109e1b7f91",
      "metadata": {
        "id": "8341a678-7c35-4d98-b740-b4109e1b7f91",
        "outputId": "fa932471-217f-46be-8b9b-c09314eb27c0",
        "colab": {
          "base_uri": "https://localhost:8080/",
          "height": 430
        }
      },
      "outputs": [
        {
          "output_type": "display_data",
          "data": {
            "text/plain": [
              "<Figure size 640x480 with 1 Axes>"
            ],
            "image/png": "[encoded data removed]"
          },
          "metadata": {}
        }
      ],
      "source": [
        "showPlot({'label': 'sgd', 'data': sgd_train}, {'label': 'adam', 'data': adam_train})"
      ]
    },
    {
      "cell_type": "code",
      "execution_count": 14,
      "id": "ce46fb5c-ba5c-4fbc-ba72-bb74fa9d1cc6",
      "metadata": {
        "id": "ce46fb5c-ba5c-4fbc-ba72-bb74fa9d1cc6"
      },
      "outputs": [],
      "source": [
        "class SigmoidModel(nn.Module):\n",
        "    def __init__(self, input_dim, n_dim):\n",
        "        super().__init__()\n",
        "\n",
        "        self.layer1 = nn.Linear(input_dim, n_dim)\n",
        "        self.layer2 = nn.Linear(n_dim, n_dim)\n",
        "        self.layer3 = nn.Linear(n_dim, 10)\n",
        "\n",
        "        self.act = nn.Sigmoid()\n",
        "\n",
        "\n",
        "    def forward(self, x):\n",
        "        x = torch.flatten(x, start_dim=1)\n",
        "        x = self.act(self.layer1(x))\n",
        "        x = self.act(self.layer2(x))\n",
        "        x = self.layer3(x)\n",
        "\n",
        "        return x"
      ]
    },
    {
      "cell_type": "code",
      "execution_count": 15,
      "id": "075f4eb0-cff6-4dec-a4c3-8637a9b09c2f",
      "metadata": {
        "id": "075f4eb0-cff6-4dec-a4c3-8637a9b09c2f"
      },
      "outputs": [],
      "source": [
        "lr = 0.001\n",
        "\n",
        "sigModel = SigmoidModel(3 * 32 * 32, 1024)\n",
        "leakyReLUModel = Model(3 * 32 * 32, 1024)\n",
        "\n",
        "sigModel = sigModel.to('cuda')\n",
        "leakyReLUModel = leakyReLUModel.to('cuda')\n",
        "\n",
        "optim_for_sig = Adam(sigModel.parameters(), lr=lr)\n",
        "optim_for_leaky = Adam(leakyReLUModel.parameters(), lr=lr)"
      ]
    },
    {
      "cell_type": "code",
      "execution_count": 16,
      "id": "4b390479-bde8-47fd-b616-6111872783f8",
      "metadata": {
        "id": "4b390479-bde8-47fd-b616-6111872783f8",
        "outputId": "15bfc04e-b521-4a4e-bb21-db2adff4bc23",
        "colab": {
          "base_uri": "https://localhost:8080/"
        }
      },
      "outputs": [
        {
          "output_type": "stream",
          "name": "stdout",
          "text": [
            "Epoch   0 | Loss: 385.80038142204285\n",
            "Epoch   1 | Loss: 337.88442730903625\n",
            "Epoch   2 | Loss: 318.2903734445572\n",
            "Epoch   3 | Loss: 306.95507180690765\n",
            "Epoch   4 | Loss: 298.61976194381714\n",
            "Epoch   5 | Loss: 292.85435795783997\n",
            "Epoch   6 | Loss: 286.03719437122345\n",
            "Epoch   7 | Loss: 279.9244405031204\n",
            "Epoch   8 | Loss: 275.229075551033\n",
            "Epoch   9 | Loss: 269.6192874908447\n",
            "Epoch  10 | Loss: 266.14175832271576\n",
            "Epoch  11 | Loss: 261.2508233785629\n",
            "Epoch  12 | Loss: 258.9817034006119\n",
            "Epoch  13 | Loss: 253.00425970554352\n",
            "Epoch  14 | Loss: 250.94309377670288\n",
            "Epoch  15 | Loss: 245.9550061225891\n",
            "Epoch  16 | Loss: 241.95963609218597\n",
            "Epoch  17 | Loss: 238.74486649036407\n",
            "Epoch  18 | Loss: 234.68365514278412\n",
            "Epoch  19 | Loss: 231.10901701450348\n",
            "Epoch  20 | Loss: 228.884395301342\n",
            "Epoch  21 | Loss: 224.20308125019073\n",
            "Epoch  22 | Loss: 222.22210627794266\n",
            "Epoch  23 | Loss: 216.6136656999588\n",
            "Epoch  24 | Loss: 213.9184798002243\n",
            "Epoch  25 | Loss: 211.40539771318436\n",
            "Epoch  26 | Loss: 208.12269818782806\n",
            "Epoch  27 | Loss: 206.304971575737\n",
            "Epoch  28 | Loss: 201.99532294273376\n",
            "Epoch  29 | Loss: 199.98304110765457\n",
            "Epoch  30 | Loss: 194.92272281646729\n",
            "Epoch  31 | Loss: 193.37134462594986\n",
            "Epoch  32 | Loss: 190.6342002749443\n",
            "Epoch  33 | Loss: 188.46730864048004\n",
            "Epoch  34 | Loss: 186.39289182424545\n",
            "Epoch  35 | Loss: 181.56166338920593\n",
            "Epoch  36 | Loss: 179.22374939918518\n",
            "Epoch  37 | Loss: 175.46854281425476\n",
            "Epoch  38 | Loss: 173.3549523949623\n",
            "Epoch  39 | Loss: 168.85101854801178\n",
            "Epoch  40 | Loss: 166.8172152042389\n",
            "Epoch  41 | Loss: 163.09354346990585\n",
            "Epoch  42 | Loss: 161.66249418258667\n",
            "Epoch  43 | Loss: 158.4925007224083\n",
            "Epoch  44 | Loss: 157.254647731781\n",
            "Epoch  45 | Loss: 151.76197695732117\n",
            "Epoch  46 | Loss: 150.23559319972992\n",
            "Epoch  47 | Loss: 150.63619881868362\n",
            "Epoch  48 | Loss: 144.0631850361824\n",
            "Epoch  49 | Loss: 143.6865717768669\n",
            "Epoch   0 | Loss: 368.2811018228531\n",
            "Epoch   1 | Loss: 324.3170509338379\n",
            "Epoch   2 | Loss: 307.13897943496704\n",
            "Epoch   3 | Loss: 295.17303705215454\n",
            "Epoch   4 | Loss: 285.37511456012726\n",
            "Epoch   5 | Loss: 277.50133180618286\n",
            "Epoch   6 | Loss: 270.7716555595398\n",
            "Epoch   7 | Loss: 264.57770895957947\n",
            "Epoch   8 | Loss: 258.11772978305817\n",
            "Epoch   9 | Loss: 253.81305241584778\n",
            "Epoch  10 | Loss: 246.61342573165894\n",
            "Epoch  11 | Loss: 242.12807190418243\n",
            "Epoch  12 | Loss: 236.67532896995544\n",
            "Epoch  13 | Loss: 231.23599112033844\n",
            "Epoch  14 | Loss: 225.30215322971344\n",
            "Epoch  15 | Loss: 220.11651450395584\n",
            "Epoch  16 | Loss: 215.5141327381134\n",
            "Epoch  17 | Loss: 212.37522637844086\n",
            "Epoch  18 | Loss: 205.6713263988495\n",
            "Epoch  19 | Loss: 200.8900889158249\n",
            "Epoch  20 | Loss: 195.43022257089615\n",
            "Epoch  21 | Loss: 190.33337491750717\n",
            "Epoch  22 | Loss: 185.79689568281174\n",
            "Epoch  23 | Loss: 181.3114761710167\n",
            "Epoch  24 | Loss: 175.1592015028\n",
            "Epoch  25 | Loss: 170.67590016126633\n",
            "Epoch  26 | Loss: 166.17455166578293\n",
            "Epoch  27 | Loss: 161.73252642154694\n",
            "Epoch  28 | Loss: 155.98323529958725\n",
            "Epoch  29 | Loss: 149.56366497278214\n",
            "Epoch  30 | Loss: 145.7791500389576\n",
            "Epoch  31 | Loss: 139.68908149003983\n",
            "Epoch  32 | Loss: 133.77309042215347\n",
            "Epoch  33 | Loss: 130.51533561944962\n",
            "Epoch  34 | Loss: 125.32480052113533\n",
            "Epoch  35 | Loss: 120.47564086318016\n",
            "Epoch  36 | Loss: 113.88861235976219\n",
            "Epoch  37 | Loss: 113.23195114731789\n",
            "Epoch  38 | Loss: 109.28597927093506\n",
            "Epoch  39 | Loss: 104.58573797345161\n",
            "Epoch  40 | Loss: 102.30715537071228\n",
            "Epoch  41 | Loss: 97.7866298854351\n",
            "Epoch  42 | Loss: 90.32152065634727\n",
            "Epoch  43 | Loss: 87.38319718837738\n",
            "Epoch  44 | Loss: 85.82307928800583\n",
            "Epoch  45 | Loss: 83.5398668050766\n",
            "Epoch  46 | Loss: 78.35602766275406\n",
            "Epoch  47 | Loss: 75.85440674424171\n",
            "Epoch  48 | Loss: 74.98091480135918\n",
            "Epoch  49 | Loss: 67.51959276199341\n"
          ]
        }
      ],
      "source": [
        "sig_train = train(sigModel, optim_for_sig, trainloader)\n",
        "leaky_train = train(leakyReLUModel, optim_for_leaky, trainloader)"
      ]
    },
    {
      "cell_type": "code",
      "execution_count": 17,
      "id": "8ff2192b-9c79-442a-8f75-289c65bf96e3",
      "metadata": {
        "id": "8ff2192b-9c79-442a-8f75-289c65bf96e3",
        "outputId": "a4348cc6-30e7-4ffa-dee8-7267747613e5",
        "colab": {
          "base_uri": "https://localhost:8080/",
          "height": 430
        }
      },
      "outputs": [
        {
          "output_type": "display_data",
          "data": {
            "text/plain": [
              "<Figure size 640x480 with 1 Axes>"
            ],
            "image/png": "[encoded data removed]"
          },
          "metadata": {}
        }
      ],
      "source": [
        "showPlot({'label': 'sigmoid', 'data': sig_train}, {'label': 'LeakyReLU', 'data': leaky_train})"
      ]
    },
    {
      "cell_type": "code",
      "execution_count": 18,
      "id": "10a358d3-b435-40a8-a081-dabdfdd4a292",
      "metadata": {
        "id": "10a358d3-b435-40a8-a081-dabdfdd4a292"
      },
      "outputs": [],
      "source": [
        "class DropoutModel(nn.Module):\n",
        "\n",
        "    def __init__(self, input_dim, n_dim):\n",
        "        super().__init__()\n",
        "\n",
        "        self.layer1 = nn.Linear(input_dim, n_dim)\n",
        "        self.layer2 = nn.Linear(n_dim, n_dim)\n",
        "        self.layer3 = nn.Linear(n_dim, 10)\n",
        "\n",
        "        self.act = nn.LeakyReLU()\n",
        "        self.dropout = nn.Dropout(p=0.1)\n",
        "\n",
        "    def forward(self, x):\n",
        "        x = torch.flatten(x, start_dim=1)\n",
        "        x = self.act(self.layer1(x))\n",
        "        x = self.dropout(x)\n",
        "        x = self.act(self.layer2(x))\n",
        "        x = self.dropout(x)\n",
        "        x = self.layer3(x)\n",
        "\n",
        "        return x"
      ]
    },
    {
      "cell_type": "code",
      "execution_count": 19,
      "id": "66496b9b-d2b2-4cfc-ba4e-9ba4674b4dd1",
      "metadata": {
        "id": "66496b9b-d2b2-4cfc-ba4e-9ba4674b4dd1"
      },
      "outputs": [],
      "source": [
        "dropoutModel = DropoutModel(3 * 32 * 32, 1024)\n",
        "dropoutModel = dropoutModel.to('cuda')\n",
        "\n",
        "optim_with_drop = Adam(dropoutModel.parameters(), lr=lr)"
      ]
    },
    {
      "cell_type": "code",
      "execution_count": 20,
      "id": "517e4df7-12c0-4092-8560-12687bc1313f",
      "metadata": {
        "id": "517e4df7-12c0-4092-8560-12687bc1313f",
        "outputId": "593683ad-e2ca-47ca-d2cc-79f8017bbec4",
        "colab": {
          "base_uri": "https://localhost:8080/"
        }
      },
      "outputs": [
        {
          "output_type": "stream",
          "name": "stdout",
          "text": [
            "Epoch   0 | Loss: 369.85037076473236\n",
            "Epoch   1 | Loss: 329.9227223396301\n",
            "Epoch   2 | Loss: 315.2809833288193\n",
            "Epoch   3 | Loss: 304.3843047618866\n",
            "Epoch   4 | Loss: 295.99493062496185\n",
            "Epoch   5 | Loss: 289.49532210826874\n",
            "Epoch   6 | Loss: 284.30508756637573\n",
            "Epoch   7 | Loss: 280.0203763246536\n",
            "Epoch   8 | Loss: 274.8758739233017\n",
            "Epoch   9 | Loss: 269.53805208206177\n",
            "Epoch  10 | Loss: 264.4515423774719\n",
            "Epoch  11 | Loss: 261.6382894515991\n",
            "Epoch  12 | Loss: 259.0565047264099\n",
            "Epoch  13 | Loss: 254.6593325138092\n",
            "Epoch  14 | Loss: 251.2367033958435\n",
            "Epoch  15 | Loss: 247.06161737442017\n",
            "Epoch  16 | Loss: 243.54963397979736\n",
            "Epoch  17 | Loss: 241.23276388645172\n",
            "Epoch  18 | Loss: 236.55697882175446\n",
            "Epoch  19 | Loss: 233.65653264522552\n",
            "Epoch  20 | Loss: 230.52843594551086\n",
            "Epoch  21 | Loss: 227.42450147867203\n",
            "Epoch  22 | Loss: 224.75022095441818\n",
            "Epoch  23 | Loss: 222.77551263570786\n",
            "Epoch  24 | Loss: 219.20839536190033\n",
            "Epoch  25 | Loss: 216.81962651014328\n",
            "Epoch  26 | Loss: 214.36080527305603\n",
            "Epoch  27 | Loss: 212.2170933485031\n",
            "Epoch  28 | Loss: 207.88295310735703\n",
            "Epoch  29 | Loss: 205.10222327709198\n",
            "Epoch  30 | Loss: 203.24691611528397\n",
            "Epoch  31 | Loss: 200.3462900519371\n",
            "Epoch  32 | Loss: 198.0131340622902\n",
            "Epoch  33 | Loss: 195.18237626552582\n",
            "Epoch  34 | Loss: 191.8692941069603\n",
            "Epoch  35 | Loss: 188.63648980855942\n",
            "Epoch  36 | Loss: 187.80808579921722\n",
            "Epoch  37 | Loss: 186.72976195812225\n",
            "Epoch  38 | Loss: 182.23244923353195\n",
            "Epoch  39 | Loss: 180.52021741867065\n",
            "Epoch  40 | Loss: 176.5261482000351\n",
            "Epoch  41 | Loss: 174.50737589597702\n",
            "Epoch  42 | Loss: 171.63589829206467\n",
            "Epoch  43 | Loss: 170.71999156475067\n",
            "Epoch  44 | Loss: 167.5349732041359\n",
            "Epoch  45 | Loss: 167.30760902166367\n",
            "Epoch  46 | Loss: 163.4523589015007\n",
            "Epoch  47 | Loss: 162.455675303936\n",
            "Epoch  48 | Loss: 160.75054770708084\n",
            "Epoch  49 | Loss: 157.68031030893326\n"
          ]
        }
      ],
      "source": [
        "train, test = train(dropoutModel, optim_with_drop, trainloader, testloader)"
      ]
    },
    {
      "cell_type": "code",
      "execution_count": 21,
      "id": "cfd442d6-7018-4591-92c3-eb4d36c7eb3a",
      "metadata": {
        "id": "cfd442d6-7018-4591-92c3-eb4d36c7eb3a",
        "outputId": "e8af4f05-c04d-4e97-e881-f5410128c81d",
        "colab": {
          "base_uri": "https://localhost:8080/",
          "height": 433
        }
      },
      "outputs": [
        {
          "output_type": "display_data",
          "data": {
            "text/plain": [
              "<Figure size 640x480 with 1 Axes>"
            ],
            "image/png": "[encoded data removed]"
          },
          "metadata": {}
        }
      ],
      "source": [
        "showPlot({'label': 'train', 'data': train}, {'label': 'test', 'data': test})"
      ]
    }
  ],
  "metadata": {
    "kernelspec": {
      "display_name": "Python3(mlTest)",
      "language": "python",
      "name": "mltest"
    },
    "language_info": {
      "codemirror_mode": {
        "name": "ipython",
        "version": 3
      },
      "file_extension": ".py",
      "mimetype": "text/x-python",
      "name": "python",
      "nbconvert_exporter": "python",
      "pygments_lexer": "ipython3",
      "version": "3.12.4"
    },
    "colab": {
      "provenance": [],
      "gpuType": "T4",
      "include_colab_link": true
    },
    "accelerator": "GPU"
  },
  "nbformat": 4,
  "nbformat_minor": 5
}