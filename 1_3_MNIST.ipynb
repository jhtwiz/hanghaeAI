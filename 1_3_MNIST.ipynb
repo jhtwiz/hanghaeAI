{
  "cells": [
    {
      "cell_type": "markdown",
      "metadata": {
        "id": "OPJenlrhihrh"
      },
      "source": [
        "# MNIST 실습\n",
        "\n",
        "이번에는 28x28 흑백 손글씨 이미지를 보고 0~9 사이의 숫자 중 어떤 숫자를 쓴 것인지 예측하는 문제를 실습합니다.\n",
        "이번 실습에서는 GPU를 활용할 것이기 때문에, 이전 챕터에서 Colab에서 GPU를 설정하는 방법을 따라해주시길 바랍니다.\n",
        "\n",
        "GPU를 설정했으면 library들을 import합니다."
      ]
    },
    {
      "cell_type": "code",
      "execution_count": 1,
      "metadata": {
        "id": "6lXVfXoDtoQh"
      },
      "outputs": [],
      "source": [
        "import torch\n",
        "import torchvision\n",
        "import torchvision.transforms as transforms\n",
        "import numpy as np"
      ]
    },
    {
      "cell_type": "markdown",
      "metadata": {
        "id": "pF-1zQvmiult"
      },
      "source": [
        "다음은 dataset을 준비합니다. 손글씨 dataset은 MNIST라는 유명한 dataset이 있습니다. 이 dataset은 `torchvision`에서 제공하고 있으며, 다음과 같이 다운로드 받을 수 있습니다."
      ]
    },
    {
      "cell_type": "code",
      "execution_count": 2,
      "metadata": {
        "id": "KAYlqPaRt6ti"
      },
      "outputs": [],
      "source": [
        "transform = transforms.ToTensor()\n",
        "\n",
        "trainset = torchvision.datasets.MNIST(\n",
        "    root='./data',\n",
        "    train=True,\n",
        "    download=True,\n",
        "    transform=transform\n",
        ")\n",
        "testset = torchvision.datasets.MNIST(\n",
        "    root='./data',\n",
        "    train=False,\n",
        "    download=True,\n",
        "    transform=transform\n",
        ")"
      ]
    },
    {
      "cell_type": "markdown",
      "metadata": {
        "id": "p-GqH7_ZjVMs"
      },
      "source": [
        "MNIST는 손글씨 사진과 어떤 숫자를 의미하는지에 대한 label의 pair들로 구성되어있습니다.\n",
        "이 때, 우리는 PyTorch model을 사용할 것이기 때문에 손글씨 사진들을 모두 tensor로 변환해야합니다.\n",
        "이러한 부가적인 변환들은 `torchvision.transforms`에서 제공하고 있으며, `torchvision.datasets.MNIST`에서 `transform` 인자로 받을 수 있습니다.\n",
        "우리는 단순히 사진을 tensor로 바꾸고 싶기 때문에 `transforms.ToTensor()` transformation을 넘겨줍니다.\n",
        "\n",
        "다음은 전체 data의 개수와 첫 번째 data를 출력한 결과입니다."
      ]
    },
    {
      "cell_type": "code",
      "execution_count": 3,
      "metadata": {
        "colab": {
          "base_uri": "https://localhost:8080/",
          "height": 482
        },
        "id": "Zsp3sHmojyhT",
        "outputId": "6a8ac142-65f7-4fc2-fefb-d69ff29e0dae"
      },
      "outputs": [
        {
          "output_type": "stream",
          "name": "stdout",
          "text": [
            "60000\n",
            "torch.Size([1, 28, 28]) 5\n"
          ]
        },
        {
          "output_type": "execute_result",
          "data": {
            "text/plain": [
              "<matplotlib.image.AxesImage at 0x7ed8dd0db8e0>"
            ]
          },
          "metadata": {},
          "execution_count": 3
        },
        {
          "output_type": "display_data",
          "data": {
            "text/plain": [
              "<Figure size 640x480 with 1 Axes>"
            ],
            "image/png": "[encoded data removed]"
          },
          "metadata": {}
        }
      ],
      "source": [
        "from matplotlib import pyplot as plt\n",
        "\n",
        "\n",
        "print(len(trainset))\n",
        "print(trainset[0][0].shape, trainset[0][1])\n",
        "plt.imshow(trainset[0][0][0], cmap='gray')"
      ]
    },
    {
      "cell_type": "markdown",
      "metadata": {
        "id": "udm8wDBsi301"
      },
      "source": [
        "첫 번째 출력결과를 통해 우리는 6만장의 손글씨 data가 있는 것을 알 수 있습니다.\n",
        "그리고 두 번째 출력결과를 통해 첫 번째 data의 shape은 (1, 28, 28)이고 5라는 숫자를 쓴 사진이라는 것을 알 수 있습니다.\n",
        "마지막으로 `plt.imshow`를 통해 visualize 했을 때 5라는 숫자가 나오는 것을 알 수 있습니다.\n",
        "\n",
        "다음은 SGD를 위해 dataset을 여러 개의 batch로 나누는 과정을 PyTorch로 구현한 모습입니다."
      ]
    },
    {
      "cell_type": "code",
      "execution_count": 4,
      "metadata": {
        "id": "UxKu3kA2i5WH"
      },
      "outputs": [],
      "source": [
        "batch_size = 256\n",
        "\n",
        "trainloader = torch.utils.data.DataLoader(\n",
        "    trainset,\n",
        "    batch_size=batch_size,\n",
        "    shuffle=True\n",
        ")\n",
        "testloader = torch.utils.data.DataLoader(\n",
        "    testset,\n",
        "    batch_size=batch_size,\n",
        "    shuffle=False\n",
        ")"
      ]
    },
    {
      "cell_type": "markdown",
      "metadata": {
        "id": "z4Qyrm4WlzWt"
      },
      "source": [
        "PyTorch에서는 `DataLoader`가 dataset을 인자로 받아 batch로 나눠줍니다.\n",
        "부가적으로 `batch_size`라는 인자를 통해 batch size를 받고 있으며, `shuffle`이라는 인자를 통해 data들을 섞을지 결정해줍니다.\n",
        "우리는 SGD가 완전 랜덤으로 batch를 구성해야 잘 동작하는 것을 알고 있기 때문에 `shuffle`에 `True`를 넘겨주고 있습니다.\n",
        "\n",
        "다음은 첫 번째 batch를 출력한 모습입니다."
      ]
    },
    {
      "cell_type": "code",
      "execution_count": 5,
      "metadata": {
        "colab": {
          "base_uri": "https://localhost:8080/"
        },
        "id": "_Hd7XxyAvVNz",
        "outputId": "92363ce5-03f2-4437-8c0b-3a530cccdb3f"
      },
      "outputs": [
        {
          "output_type": "stream",
          "name": "stdout",
          "text": [
            "torch.Size([256, 1, 28, 28]) torch.Size([256])\n"
          ]
        }
      ],
      "source": [
        "dataiter = iter(trainloader)\n",
        "images, labels = next(dataiter)\n",
        "print(images.shape, labels.shape)"
      ]
    },
    {
      "cell_type": "markdown",
      "metadata": {
        "id": "h0ZY5mDimRUK"
      },
      "source": [
        "`images`는 첫 번째 batch의 image들이고 `labels`는 첫 번째 batch의 label들입니다.\n",
        "위에서 batch size를 64로 설정했기 때문에 총 64개의 image와 label들이 있어야 합니다.\n",
        "실제 shape 출력 결과를 보면 그렇다는 것을 알 수 있습니다.\n",
        "\n",
        "다음은 (n, 1, 28, 28) shape의 image를 입력받아 0~9 사이의 정수 하나를 출력하는 3-layer MLP를 구현합니다."
      ]
    },
    {
      "cell_type": "code",
      "execution_count": 6,
      "metadata": {
        "id": "OLOA-ZGTuVVG"
      },
      "outputs": [],
      "source": [
        "from torch import nn\n",
        "\n",
        "\n",
        "class Model(nn.Module):\n",
        "  def __init__(self, input_dim, n_dim):\n",
        "    super().__init__()\n",
        "\n",
        "    self.layer1 = nn.Linear(input_dim, n_dim)\n",
        "    self.layer2 = nn.Linear(n_dim, n_dim)\n",
        "    self.layer3 = nn.Linear(n_dim, 10)\n",
        "\n",
        "    self.act = nn.ReLU()\n",
        "\n",
        "  def forward(self, x):\n",
        "    x = torch.flatten(x, start_dim=1)\n",
        "    x = self.act(self.layer1(x))\n",
        "    x = self.act(self.layer2(x))\n",
        "    x = self.layer3(x)\n",
        "\n",
        "    return x\n",
        "\n",
        "\n",
        "model = Model(28 * 28 * 1, 1024)"
      ]
    },
    {
      "cell_type": "markdown",
      "metadata": {
        "id": "tag1rNcwmnAr"
      },
      "source": [
        "이전의 2-layer MLP와 유사한 형태임을 알 수 있습니다.\n",
        "여기서 특이사항은 `forward`의 첫 번째 줄에 `torch.flatten`을 사용한다는 것입니다.\n",
        "`Linear`는 이전에도 봤다시피 (n, d) 형태의 shape을 입력받습니다.\n",
        "이미지는 (n, 1, 28, 28)이기 때문에 (n, 1 * 28 * 28)로 shape을 변환해야 선형 함수에 입력으로 주어줄 수 있게 됩니다.\n",
        "이 역할을 수행하는 것이 바로 `torch.flatten`입니다.\n",
        "우리는 첫 번째 shape인 n을 보존할 것이기 때문에 flatten할 차원은 `start_dim=1`로 넘겨주게 됩니다.\n",
        "\n",
        "다음은 gradient descent를 수행해줄 optimizer를 구현하는 모습입니다."
      ]
    },
    {
      "cell_type": "code",
      "execution_count": 7,
      "metadata": {
        "id": "ypS0TcOlvBhZ"
      },
      "outputs": [],
      "source": [
        "from torch.optim import SGD\n",
        "\n",
        "lr = 0.001\n",
        "\n",
        "model = model.to('cuda')\n",
        "\n",
        "optimizer = SGD(model.parameters(), lr=lr)"
      ]
    },
    {
      "cell_type": "code",
      "execution_count": 8,
      "metadata": {
        "id": "d6M4SpWQoML9"
      },
      "outputs": [],
      "source": [
        "def accuracy(model, dataloader):\n",
        "  cnt = 0\n",
        "  acc = 0\n",
        "\n",
        "  for data in dataloader:\n",
        "    inputs, labels = data\n",
        "    inputs, labels = inputs.to('cuda'), labels.to('cuda')\n",
        "\n",
        "    preds = model(inputs)\n",
        "    preds = torch.argmax(preds, dim=-1)\n",
        "\n",
        "    cnt += labels.shape[0]\n",
        "    acc += (labels == preds).sum().item()\n",
        "\n",
        "  return acc / cnt"
      ]
    },
    {
      "cell_type": "markdown",
      "metadata": {
        "id": "5PooeOKMnRfZ"
      },
      "source": [
        "이전 코드와 거의 똑같습니다. 다른 점은 `model.to('cuda')` 코드를 통해 우리가 구현한 model을 GPU로 옮긴 것입니다.\n",
        "MNIST 부터는 모델과 data가 커지면서 훨씬 많은 행렬 연산이 이루어지기 때문에 GPU를 활용하는 것이 빠릅니다.\n",
        "\n",
        "다음은 model을 MNIST에 학습하는 코드입니다."
      ]
    },
    {
      "cell_type": "code",
      "execution_count": 9,
      "metadata": {
        "colab": {
          "base_uri": "https://localhost:8080/"
        },
        "id": "TryX1hewvNiB",
        "outputId": "dd3e4933-b3a4-4faf-8dd2-647fcd1ce282"
      },
      "outputs": [
        {
          "output_type": "stream",
          "name": "stdout",
          "text": [
            "Epoch   0 | Loss: 539.2387802600861\n",
            "Epoch   1 | Loss: 535.1564612388611\n",
            "Epoch   2 | Loss: 530.9989819526672\n",
            "Epoch   3 | Loss: 526.6084654331207\n",
            "Epoch   4 | Loss: 521.8650333881378\n",
            "Epoch   5 | Loss: 516.6250479221344\n",
            "Epoch   6 | Loss: 510.7388172149658\n",
            "Epoch   7 | Loss: 504.03646302223206\n",
            "Epoch   8 | Loss: 496.365216255188\n",
            "Epoch   9 | Loss: 487.52427077293396\n",
            "Epoch  10 | Loss: 477.31483817100525\n",
            "Epoch  11 | Loss: 465.58732771873474\n",
            "Epoch  12 | Loss: 452.24648225307465\n",
            "Epoch  13 | Loss: 437.2597532272339\n",
            "Epoch  14 | Loss: 420.6902906894684\n",
            "Epoch  15 | Loss: 402.67115807533264\n",
            "Epoch  16 | Loss: 383.542209982872\n",
            "Epoch  17 | Loss: 363.80558001995087\n",
            "Epoch  18 | Loss: 343.8975191116333\n",
            "Epoch  19 | Loss: 324.2184737920761\n",
            "Epoch  20 | Loss: 305.40661430358887\n",
            "Epoch  21 | Loss: 287.60379230976105\n",
            "Epoch  22 | Loss: 271.0793287754059\n",
            "Epoch  23 | Loss: 255.92275005578995\n",
            "Epoch  24 | Loss: 242.23802030086517\n",
            "Epoch  25 | Loss: 229.8608936071396\n",
            "Epoch  26 | Loss: 218.73817598819733\n",
            "Epoch  27 | Loss: 208.75463443994522\n",
            "Epoch  28 | Loss: 199.734215259552\n",
            "Epoch  29 | Loss: 191.655531167984\n",
            "Epoch  30 | Loss: 184.505308508873\n",
            "Epoch  31 | Loss: 177.77600502967834\n",
            "Epoch  32 | Loss: 171.83133733272552\n",
            "Epoch  33 | Loss: 166.32716327905655\n",
            "Epoch  34 | Loss: 161.39284414052963\n",
            "Epoch  35 | Loss: 156.89098954200745\n",
            "Epoch  36 | Loss: 152.59110781550407\n",
            "Epoch  37 | Loss: 148.78224849700928\n",
            "Epoch  38 | Loss: 145.20781540870667\n",
            "Epoch  39 | Loss: 141.8459882736206\n",
            "Epoch  40 | Loss: 138.7804915010929\n",
            "Epoch  41 | Loss: 135.91202920675278\n",
            "Epoch  42 | Loss: 133.20187976956367\n",
            "Epoch  43 | Loss: 130.76462787389755\n",
            "Epoch  44 | Loss: 128.45758095383644\n",
            "Epoch  45 | Loss: 126.20569762587547\n",
            "Epoch  46 | Loss: 124.17516297101974\n",
            "Epoch  47 | Loss: 122.2302228808403\n",
            "Epoch  48 | Loss: 120.40155121684074\n",
            "Epoch  49 | Loss: 118.64209568500519\n",
            "Epoch  50 | Loss: 117.04267680644989\n",
            "Epoch  51 | Loss: 115.46467676758766\n",
            "Epoch  52 | Loss: 114.0392744243145\n",
            "Epoch  53 | Loss: 112.58921638131142\n",
            "Epoch  54 | Loss: 111.31635716557503\n",
            "Epoch  55 | Loss: 109.97107392549515\n",
            "Epoch  56 | Loss: 108.91870948672295\n",
            "Epoch  57 | Loss: 107.63239523768425\n",
            "Epoch  58 | Loss: 106.45529016852379\n",
            "Epoch  59 | Loss: 105.44832020998001\n",
            "Epoch  60 | Loss: 104.39835640788078\n",
            "Epoch  61 | Loss: 103.46653971076012\n",
            "Epoch  62 | Loss: 102.65378180146217\n",
            "Epoch  63 | Loss: 101.66226211190224\n",
            "Epoch  64 | Loss: 100.83128359913826\n",
            "Epoch  65 | Loss: 99.95128843188286\n",
            "Epoch  66 | Loss: 99.10889387130737\n",
            "Epoch  67 | Loss: 98.4170213341713\n",
            "Epoch  68 | Loss: 97.76068040728569\n",
            "Epoch  69 | Loss: 96.9420176744461\n",
            "Epoch  70 | Loss: 96.23710724711418\n",
            "Epoch  71 | Loss: 95.56483207643032\n",
            "Epoch  72 | Loss: 94.86379572749138\n",
            "Epoch  73 | Loss: 94.28745433688164\n",
            "Epoch  74 | Loss: 93.69671505689621\n",
            "Epoch  75 | Loss: 93.1306531727314\n",
            "Epoch  76 | Loss: 92.51694190502167\n",
            "Epoch  77 | Loss: 91.98401206731796\n",
            "Epoch  78 | Loss: 91.42960399389267\n",
            "Epoch  79 | Loss: 90.87938664853573\n",
            "Epoch  80 | Loss: 90.41585579514503\n",
            "Epoch  81 | Loss: 89.98159605264664\n",
            "Epoch  82 | Loss: 89.42799231410027\n",
            "Epoch  83 | Loss: 88.94511744379997\n",
            "Epoch  84 | Loss: 88.44511903822422\n",
            "Epoch  85 | Loss: 88.11536951363087\n",
            "Epoch  86 | Loss: 87.62369173765182\n",
            "Epoch  87 | Loss: 87.21459400653839\n",
            "Epoch  88 | Loss: 86.74291729927063\n",
            "Epoch  89 | Loss: 86.36633349955082\n",
            "Epoch  90 | Loss: 86.05282840132713\n",
            "Epoch  91 | Loss: 85.6184164583683\n",
            "Epoch  92 | Loss: 85.2446386963129\n",
            "Epoch  93 | Loss: 84.93914331495762\n",
            "Epoch  94 | Loss: 84.55820168554783\n",
            "Epoch  95 | Loss: 84.19536045193672\n",
            "Epoch  96 | Loss: 83.8409942984581\n",
            "Epoch  97 | Loss: 83.5361513197422\n",
            "Epoch  98 | Loss: 83.11714261770248\n",
            "Epoch  99 | Loss: 83.01080864667892\n"
          ]
        }
      ],
      "source": [
        "n_epochs = 100\n",
        "train_accs = []\n",
        "test_accs = []\n",
        "\n",
        "for epoch in range(n_epochs):\n",
        "  total_loss = 0.\n",
        "\n",
        "  model.train()\n",
        "  for data in trainloader:\n",
        "    model.zero_grad()\n",
        "    inputs, labels = data\n",
        "    inputs, labels = inputs.to('cuda'), labels.to('cuda')\n",
        "\n",
        "    preds = model(inputs)\n",
        "    CEL = torch.nn.CrossEntropyLoss()\n",
        "    loss = CEL(preds, labels)\n",
        "    loss.backward()\n",
        "    optimizer.step()\n",
        "\n",
        "    total_loss += loss.item()\n",
        "\n",
        "  model.eval()\n",
        "  with torch.no_grad():\n",
        "    train_accs.append(accuracy(model, trainloader))\n",
        "    test_accs.append(accuracy(model, testloader))\n",
        "\n",
        "  print(f\"Epoch {epoch:3d} | Loss: {total_loss}\")"
      ]
    },
    {
      "cell_type": "markdown",
      "metadata": {
        "id": "YRDcptrqniX7"
      },
      "source": [
        "출력 결과를 보면 잘 수렴하는 것을 볼 수 있습니다.\n",
        "이전 구현과 다른 점은 다음 두 가지입니다.\n",
        "- `for data in trainloader`를 통해 batch들을 iterate하면서 model을 학습합니다.\n",
        "- `inputs, labels = inputs.to('cuda'), labels.to('cuda')`를 통해 model의 입력으로 들어가는 tensor들을 GPU로 보냅니다.\n",
        "\n",
        "마지막으로 첫 번째 data에 대한 예측 결과를 살펴봅시다."
      ]
    },
    {
      "cell_type": "code",
      "execution_count": 10,
      "metadata": {
        "colab": {
          "base_uri": "https://localhost:8080/"
        },
        "id": "Zct0ssSKwjt1",
        "outputId": "dacc0a46-2dad-49c1-c047-74cd78ed2828"
      },
      "outputs": [
        {
          "output_type": "stream",
          "name": "stdout",
          "text": [
            "tensor([[ 2.3251e+00, -4.2187e+00,  5.6446e-01,  5.0662e+00, -5.8077e+00,\n",
            "          4.7873e+00, -2.2287e+00, -3.1067e-03,  1.1090e+00, -3.0015e-01]],\n",
            "       device='cuda:0', grad_fn=<AddmmBackward0>)\n",
            "5\n"
          ]
        }
      ],
      "source": [
        "idx = 0\n",
        "\n",
        "x = trainset[idx][0][None]  # (1, 1, 28, 28)\n",
        "x = x.to('cuda')\n",
        "\n",
        "print(model(x))\n",
        "print(trainset[idx][1])"
      ]
    },
    {
      "cell_type": "markdown",
      "metadata": {
        "id": "qzgSOrMsoZ2z"
      },
      "source": [
        "여기서 idx를 조정하여 다른 data에 대한 출력 결과도 볼 수 있습니다.\n",
        "예측 결과를 보시면 아직 성능이 그렇게 좋지 않은 것을 알 수 있습니다."
      ]
    },
    {
      "cell_type": "code",
      "source": [
        "def plot_acc(train_accs, test_accs, label1='train', label2='test'):\n",
        "  x = np.arange(len(train_accs))\n",
        "\n",
        "  plt.plot(x, train_accs, label=label1)\n",
        "  plt.plot(x, test_accs, label=label2)\n",
        "  plt.legend()\n",
        "  plt.show()\n",
        "\n",
        "\n",
        "plot_acc(train_accs, test_accs)"
      ],
      "metadata": {
        "colab": {
          "base_uri": "https://localhost:8080/",
          "height": 430
        },
        "id": "PyJNHR1giNUa",
        "outputId": "9cb4b1f4-aae3-48f7-881f-5646264b5bed"
      },
      "execution_count": 11,
      "outputs": [
        {
          "output_type": "display_data",
          "data": {
            "text/plain": [
              "<Figure size 640x480 with 1 Axes>"
            ],
            "image/png": "[encoded data removed]"
          },
          "metadata": {}
        }
      ]
    }
  ],
  "metadata": {
    "accelerator": "GPU",
    "colab": {
      "gpuType": "T4",
      "provenance": []
    },
    "kernelspec": {
      "display_name": "Python 3 (ipykernel)",
      "language": "python",
      "name": "python3"
    },
    "language_info": {
      "codemirror_mode": {
        "name": "ipython",
        "version": 3
      },
      "file_extension": ".py",
      "mimetype": "text/x-python",
      "name": "python",
      "nbconvert_exporter": "python",
      "pygments_lexer": "ipython3",
      "version": "3.12.4"
    }
  },
  "nbformat": 4,
  "nbformat_minor": 0
}